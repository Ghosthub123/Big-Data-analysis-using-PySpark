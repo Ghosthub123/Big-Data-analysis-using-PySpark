{
 "cells": [
  {
   "cell_type": "code",
   "execution_count": 2,
   "metadata": {},
   "outputs": [],
   "source": [
    "import findspark\n",
    "findspark.init()"
   ]
  },
  {
   "cell_type": "code",
   "execution_count": 3,
   "metadata": {},
   "outputs": [],
   "source": [
    "from pyspark.sql import SparkSession"
   ]
  },
  {
   "cell_type": "code",
   "execution_count": 4,
   "metadata": {},
   "outputs": [
    {
     "data": {
      "text/html": [
       "\n",
       "            <div>\n",
       "                <p><b>SparkSession - in-memory</b></p>\n",
       "                \n",
       "        <div>\n",
       "            <p><b>SparkContext</b></p>\n",
       "\n",
       "            <p><a href=\"http://192.168.56.1:4043\">Spark UI</a></p>\n",
       "\n",
       "            <dl>\n",
       "              <dt>Version</dt>\n",
       "                <dd><code>v2.4.7</code></dd>\n",
       "              <dt>Master</dt>\n",
       "                <dd><code>local[*]</code></dd>\n",
       "              <dt>AppName</dt>\n",
       "                <dd><code>Joining and Appending df</code></dd>\n",
       "            </dl>\n",
       "        </div>\n",
       "        \n",
       "            </div>\n",
       "        "
      ],
      "text/plain": [
       "<pyspark.sql.session.SparkSession at 0x26052763488>"
      ]
     },
     "execution_count": 4,
     "metadata": {},
     "output_type": "execute_result"
    }
   ],
   "source": [
    "spark = SparkSession.builder.appName('Joining and Appending df').getOrCreate()\n",
    "spark"
   ]
  },
  {
   "cell_type": "code",
   "execution_count": 14,
   "metadata": {},
   "outputs": [],
   "source": [
    "values_p = [(\"Koala\",1,'Yes'),(\"Caterpillar\",2,\"Yes\"),(\"Deer\",3,\"Yes\"),(\"Human\",4,\"Yes\")]\n",
    "eat_plants = spark.createDataFrame(values_p,[\"Name\",\"id\",\"eats_plants\"])\n",
    "\n",
    "values_m = [(\"Shark\",6,\"Yes\"),(\"Lion\",5,\"Yes\"),(\"Tiger\",7,\"Yes\"),(\"Human\",4,\"Yes\")]\n",
    "eat_meats = spark.createDataFrame(values_m,[\"Name\",\"id\",\"eats_meat\"])"
   ]
  },
  {
   "cell_type": "code",
   "execution_count": 15,
   "metadata": {},
   "outputs": [
    {
     "name": "stdout",
     "output_type": "stream",
     "text": [
      "+-----------+---+-----------+\n",
      "|       Name| id|eats_plants|\n",
      "+-----------+---+-----------+\n",
      "|      Koala|  1|        Yes|\n",
      "|Caterpillar|  2|        Yes|\n",
      "|       Deer|  3|        Yes|\n",
      "|      Human|  4|        Yes|\n",
      "+-----------+---+-----------+\n",
      "\n",
      "eats plants\n"
     ]
    }
   ],
   "source": [
    "\n",
    "eat_plants.show()\n",
    "print('eats plants')"
   ]
  },
  {
   "cell_type": "code",
   "execution_count": 16,
   "metadata": {},
   "outputs": [
    {
     "name": "stdout",
     "output_type": "stream",
     "text": [
      "+-----+---+---------+\n",
      "| Name| id|eats_meat|\n",
      "+-----+---+---------+\n",
      "|Shark|  6|      Yes|\n",
      "| Lion|  5|      Yes|\n",
      "|Tiger|  7|      Yes|\n",
      "|Human|  4|      Yes|\n",
      "+-----+---+---------+\n",
      "\n",
      "eat meat\n"
     ]
    }
   ],
   "source": [
    "eat_meats.show()\n",
    "print('eat meat')"
   ]
  },
  {
   "cell_type": "code",
   "execution_count": 17,
   "metadata": {},
   "outputs": [],
   "source": [
    "new_df = eat_plants"
   ]
  },
  {
   "cell_type": "code",
   "execution_count": 18,
   "metadata": {},
   "outputs": [],
   "source": [
    "df_append = eat_plants.union(new_df)"
   ]
  },
  {
   "cell_type": "markdown",
   "metadata": {},
   "source": [
    "APPENDS TO THE SAME NAME TABLE"
   ]
  },
  {
   "cell_type": "code",
   "execution_count": 20,
   "metadata": {},
   "outputs": [
    {
     "name": "stdout",
     "output_type": "stream",
     "text": [
      "+-----------+---+-----------+\n",
      "|       Name| id|eats_plants|\n",
      "+-----------+---+-----------+\n",
      "|      Koala|  1|        Yes|\n",
      "|Caterpillar|  2|        Yes|\n",
      "|       Deer|  3|        Yes|\n",
      "|      Human|  4|        Yes|\n",
      "|      Koala|  1|        Yes|\n",
      "|Caterpillar|  2|        Yes|\n",
      "|       Deer|  3|        Yes|\n",
      "|      Human|  4|        Yes|\n",
      "+-----------+---+-----------+\n",
      "\n"
     ]
    }
   ],
   "source": [
    "df_append.show()"
   ]
  },
  {
   "cell_type": "markdown",
   "metadata": {},
   "source": [
    "# Inner join\n"
   ]
  },
  {
   "cell_type": "code",
   "execution_count": 21,
   "metadata": {},
   "outputs": [
    {
     "name": "stdout",
     "output_type": "stream",
     "text": [
      "+-----+---+-----------+---------+\n",
      "| Name| id|eats_plants|eats_meat|\n",
      "+-----+---+-----------+---------+\n",
      "|Human|  4|        Yes|      Yes|\n",
      "+-----+---+-----------+---------+\n",
      "\n"
     ]
    }
   ],
   "source": [
    "inner_join = eat_plants.join(eat_meats,[\"Name\",\"id\"],\"inner\")\n",
    "inner_join.show()"
   ]
  },
  {
   "cell_type": "code",
   "execution_count": 22,
   "metadata": {},
   "outputs": [
    {
     "name": "stdout",
     "output_type": "stream",
     "text": [
      "+-----+---+-----------+---+---------+\n",
      "| Name| id|eats_plants| id|eats_meat|\n",
      "+-----+---+-----------+---+---------+\n",
      "|Human|  4|        Yes|  4|      Yes|\n",
      "+-----+---+-----------+---+---------+\n",
      "\n"
     ]
    }
   ],
   "source": [
    "inner_join = eat_plants.join(eat_meats,[\"Name\"],\"inner\")\n",
    "inner_join.show()"
   ]
  },
  {
   "cell_type": "markdown",
   "metadata": {},
   "source": [
    "# Left Join"
   ]
  },
  {
   "cell_type": "code",
   "execution_count": 23,
   "metadata": {},
   "outputs": [
    {
     "name": "stdout",
     "output_type": "stream",
     "text": [
      "+-----------+---+-----------+---------+\n",
      "|       Name| id|eats_plants|eats_meat|\n",
      "+-----------+---+-----------+---------+\n",
      "|      Human|  4|        Yes|      Yes|\n",
      "|       Deer|  3|        Yes|     null|\n",
      "|Caterpillar|  2|        Yes|     null|\n",
      "|      Koala|  1|        Yes|     null|\n",
      "+-----------+---+-----------+---------+\n",
      "\n"
     ]
    }
   ],
   "source": [
    "left_join = eat_plants.join(eat_meats,[\"Name\",\"id\"],\"left\")\n",
    "left_join.show()"
   ]
  },
  {
   "cell_type": "markdown",
   "metadata": {},
   "source": [
    "# Right Join"
   ]
  },
  {
   "cell_type": "code",
   "execution_count": 24,
   "metadata": {},
   "outputs": [
    {
     "name": "stdout",
     "output_type": "stream",
     "text": [
      "+-----+---+-----------+---------+\n",
      "| Name| id|eats_plants|eats_meat|\n",
      "+-----+---+-----------+---------+\n",
      "|Human|  4|        Yes|      Yes|\n",
      "|Tiger|  7|       null|      Yes|\n",
      "|Shark|  6|       null|      Yes|\n",
      "| Lion|  5|       null|      Yes|\n",
      "+-----+---+-----------+---------+\n",
      "\n"
     ]
    }
   ],
   "source": [
    "right_join = eat_plants.join(eat_meats,[\"Name\",\"id\"],\"right\")\n",
    "right_join.show()"
   ]
  },
  {
   "cell_type": "markdown",
   "metadata": {},
   "source": [
    "Eats Exclusively plants "
   ]
  },
  {
   "cell_type": "code",
   "execution_count": 25,
   "metadata": {},
   "outputs": [
    {
     "name": "stdout",
     "output_type": "stream",
     "text": [
      "+-----------+---+-----------+---------+\n",
      "|       Name| id|eats_plants|eats_meat|\n",
      "+-----------+---+-----------+---------+\n",
      "|       Deer|  3|        Yes|     null|\n",
      "|Caterpillar|  2|        Yes|     null|\n",
      "|      Koala|  1|        Yes|     null|\n",
      "+-----------+---+-----------+---------+\n",
      "\n"
     ]
    }
   ],
   "source": [
    "cond_join = eat_plants.join(eat_meats,[\"Name\",\"id\"],\"left\").filter(eat_meats.Name.isNull())\n",
    "cond_join.show()"
   ]
  },
  {
   "cell_type": "code",
   "execution_count": 31,
   "metadata": {},
   "outputs": [
    {
     "name": "stdout",
     "output_type": "stream",
     "text": [
      "+--------------+\n",
      "|(Name IS NULL)|\n",
      "+--------------+\n",
      "|         false|\n",
      "|         false|\n",
      "|         false|\n",
      "|         false|\n",
      "+--------------+\n",
      "\n"
     ]
    }
   ],
   "source": [
    "eat_meats.select(eat_meats.Name.isNull()).show()"
   ]
  },
  {
   "cell_type": "markdown",
   "metadata": {},
   "source": [
    "# Full outer joins"
   ]
  },
  {
   "cell_type": "code",
   "execution_count": 32,
   "metadata": {},
   "outputs": [
    {
     "name": "stdout",
     "output_type": "stream",
     "text": [
      "+-----------+---+-----------+---------+\n",
      "|       Name| id|eats_plants|eats_meat|\n",
      "+-----------+---+-----------+---------+\n",
      "|      Human|  4|        Yes|      Yes|\n",
      "|      Tiger|  7|       null|      Yes|\n",
      "|       Deer|  3|        Yes|     null|\n",
      "|      Shark|  6|       null|      Yes|\n",
      "|       Lion|  5|       null|      Yes|\n",
      "|Caterpillar|  2|        Yes|     null|\n",
      "|      Koala|  1|        Yes|     null|\n",
      "+-----------+---+-----------+---------+\n",
      "\n"
     ]
    }
   ],
   "source": [
    "full_join = eat_plants.join(eat_meats,[\"Name\",\"id\"],\"full\")\n",
    "full_join.show()"
   ]
  },
  {
   "cell_type": "code",
   "execution_count": null,
   "metadata": {},
   "outputs": [],
   "source": []
  },
  {
   "cell_type": "markdown",
   "metadata": {},
   "source": [
    "#  IMPORTING FROM ONE FOLDER"
   ]
  },
  {
   "cell_type": "code",
   "execution_count": 70,
   "metadata": {},
   "outputs": [],
   "source": [
    "import os\n",
    "path = 'uw-madison-courses/'"
   ]
  },
  {
   "cell_type": "code",
   "execution_count": 63,
   "metadata": {
    "scrolled": true
   },
   "outputs": [
    {
     "name": "stdout",
     "output_type": "stream",
     "text": [
      "courses\n",
      "courses\n",
      "+--------------------+--------------------+------+\n",
      "|                uuid|                name|number|\n",
      "+--------------------+--------------------+------+\n",
      "|a3e3e1c3-543d-3bb...|Cooperative Educa...|     1|\n",
      "|c070a84f-648f-351...|Cooperative Educa...|     1|\n",
      "+--------------------+--------------------+------+\n",
      "only showing top 2 rows\n",
      "\n",
      "course_offerings\n",
      "course_offerings\n",
      "+--------------------+--------------------+---------+--------------------+\n",
      "|                uuid|         course_uuid|term_code|                name|\n",
      "+--------------------+--------------------+---------+--------------------+\n",
      "|344b3ebe-da7e-314...|a3e3e1c3-543d-3bb...|     1092|Cooperative Educa...|\n",
      "|f718e6cd-33f0-3c1...|a3e3e1c3-543d-3bb...|     1082|Cooperative Educa...|\n",
      "+--------------------+--------------------+---------+--------------------+\n",
      "only showing top 2 rows\n",
      "\n",
      "grade_distributions\n",
      "grade_distributions\n",
      "+--------------------+--------------+-------+--------+-------+--------+-------+-------+-------+-------+-------+--------+-------+-------+-------+--------+--------+-----------+\n",
      "|course_offering_uuid|section_number|a_count|ab_count|b_count|bc_count|c_count|d_count|f_count|s_count|u_count|cr_count|n_count|p_count|i_count|nw_count|nr_count|other_count|\n",
      "+--------------------+--------------+-------+--------+-------+--------+-------+-------+-------+-------+-------+--------+-------+-------+-------+--------+--------+-----------+\n",
      "|344b3ebe-da7e-314...|             1|    105|       0|      0|       0|      0|      0|      0|      0|      0|       0|      0|      0|      0|       0|       0|          0|\n",
      "|f718e6cd-33f0-3c1...|             1|    158|       0|      0|       0|      0|      0|      0|      0|      0|       0|      0|      0|      1|       0|       0|          0|\n",
      "+--------------------+--------------+-------+--------+-------+--------+-------+-------+-------+-------+-------+--------+-------+-------+-------+--------+--------+-----------+\n",
      "only showing top 2 rows\n",
      "\n",
      "instructors\n",
      "instructors\n",
      "+-------+----------------+\n",
      "|     id|            name|\n",
      "+-------+----------------+\n",
      "| 761703|JOHN ARCHAMBAULT|\n",
      "|3677061|  STEPHANIE KANN|\n",
      "+-------+----------------+\n",
      "only showing top 2 rows\n",
      "\n",
      "rooms\n",
      "rooms\n",
      "+--------------------+-------------+---------+\n",
      "|                uuid|facility_code|room_code|\n",
      "+--------------------+-------------+---------+\n",
      "|04368a56-c959-3e4...|   OFF CAMPUS|     null|\n",
      "|2cc50da3-ef0e-357...|         0032|     0249|\n",
      "+--------------------+-------------+---------+\n",
      "only showing top 2 rows\n",
      "\n",
      "schedules\n",
      "schedules\n",
      "+--------------------+----------+--------+-----+-----+-----+-----+-----+-----+-----+\n",
      "|                uuid|start_time|end_time|  mon| tues|  wed|thurs|  fri|  sat|  sun|\n",
      "+--------------------+----------+--------+-----+-----+-----+-----+-----+-----+-----+\n",
      "|f2d66a4d-0c08-3b4...|        -1|      -1|false|false|false|false|false|false|false|\n",
      "|875542a2-f786-34d...|       530|     580| true|false| true|false|false|false|false|\n",
      "+--------------------+----------+--------+-----+-----+-----+-----+-----+-----+-----+\n",
      "only showing top 2 rows\n",
      "\n",
      "sections\n",
      "sections\n",
      "+--------------------+--------------------+------------+------+---------+--------------------+\n",
      "|                uuid|course_offering_uuid|section_type|number|room_uuid|       schedule_uuid|\n",
      "+--------------------+--------------------+------------+------+---------+--------------------+\n",
      "|45adf63c-48c9-365...|344b3ebe-da7e-314...|         FLD|     1|     null|f2d66a4d-0c08-3b4...|\n",
      "|c6280e23-5e43-385...|f718e6cd-33f0-3c1...|         FLD|     1|     null|f2d66a4d-0c08-3b4...|\n",
      "+--------------------+--------------------+------------+------+---------+--------------------+\n",
      "only showing top 2 rows\n",
      "\n",
      "subjects\n",
      "subjects\n",
      "+----+------------+------------+\n",
      "|code|        name|abbreviation|\n",
      "+----+------------+------------+\n",
      "| 908|Soil Science|    SOIL SCI|\n",
      "| 350|     ENGLISH|     ENGLISH|\n",
      "+----+------------+------------+\n",
      "only showing top 2 rows\n",
      "\n",
      "subject_memberships\n",
      "subject_memberships\n",
      "+------------+--------------------+\n",
      "|subject_code|course_offering_uuid|\n",
      "+------------+--------------------+\n",
      "|         220|344b3ebe-da7e-314...|\n",
      "|         320|344b3ebe-da7e-314...|\n",
      "+------------+--------------------+\n",
      "only showing top 2 rows\n",
      "\n",
      "teachings\n",
      "teachings\n",
      "+-------------+--------------------+\n",
      "|instructor_id|        section_uuid|\n",
      "+-------------+--------------------+\n",
      "|       761703|45adf63c-48c9-365...|\n",
      "|       761703|c6280e23-5e43-385...|\n",
      "+-------------+--------------------+\n",
      "only showing top 2 rows\n",
      "\n"
     ]
    }
   ],
   "source": [
    "df_lists = []\n",
    "for filename in os.listdir(path):\n",
    "    if filename.endswith('.csv'):\n",
    "        file_name_list = filename.split('.')\n",
    "        df_name = file_name_list[0]\n",
    "        print(df_name)\n",
    "        df = spark.read.csv(path + filename,inferSchema=True,header = True)\n",
    "        df.name = df_name\n",
    "        print(df.name)\n",
    "        df_lists.append(df_name)\n",
    "        exec(df_name + \"= df\")\n",
    "        df.show(2)"
   ]
  },
  {
   "cell_type": "code",
   "execution_count": 81,
   "metadata": {},
   "outputs": [
    {
     "name": "stdout",
     "output_type": "stream",
     "text": [
      "+----+------------+------------+\n",
      "|code|        name|abbreviation|\n",
      "+----+------------+------------+\n",
      "| 908|Soil Science|    SOIL SCI|\n",
      "+----+------------+------------+\n",
      "only showing top 1 row\n",
      "\n"
     ]
    }
   ],
   "source": [
    "subjects.show(1)"
   ]
  },
  {
   "cell_type": "code",
   "execution_count": 82,
   "metadata": {},
   "outputs": [
    {
     "name": "stdout",
     "output_type": "stream",
     "text": [
      "+------------------------------------+------------------------------------+---------+--------------------------+\n",
      "|uuid                                |course_uuid                         |term_code|name                      |\n",
      "+------------------------------------+------------------------------------+---------+--------------------------+\n",
      "|344b3ebe-da7e-314c-83ed-9425269695fd|a3e3e1c3-543d-3bb5-ae65-5f2aec4ad1de|1092     |Cooperative Education Prog|\n",
      "+------------------------------------+------------------------------------+---------+--------------------------+\n",
      "only showing top 1 row\n",
      "\n"
     ]
    }
   ],
   "source": [
    "course_offerings.show(1,False)"
   ]
  },
  {
   "cell_type": "code",
   "execution_count": 83,
   "metadata": {},
   "outputs": [
    {
     "name": "stdout",
     "output_type": "stream",
     "text": [
      "+------+----------------+\n",
      "|    id|            name|\n",
      "+------+----------------+\n",
      "|761703|JOHN ARCHAMBAULT|\n",
      "+------+----------------+\n",
      "only showing top 1 row\n",
      "\n"
     ]
    }
   ],
   "source": [
    "instructors.show(1)"
   ]
  },
  {
   "cell_type": "code",
   "execution_count": 84,
   "metadata": {},
   "outputs": [
    {
     "name": "stdout",
     "output_type": "stream",
     "text": [
      "hello\n"
     ]
    }
   ],
   "source": [
    "exec(\"print('hello')\")"
   ]
  },
  {
   "cell_type": "code",
   "execution_count": 88,
   "metadata": {},
   "outputs": [],
   "source": [
    "sec_id = teachings.withColumnRenamed('section_uuid','uuid').join(sections,'uuid','left')"
   ]
  },
  {
   "cell_type": "code",
   "execution_count": 90,
   "metadata": {},
   "outputs": [],
   "source": [
    "sec_id = sec_id.select(\"uuid\",'instructor_id','course_offering_uuid')"
   ]
  },
  {
   "cell_type": "code",
   "execution_count": 91,
   "metadata": {},
   "outputs": [
    {
     "name": "stdout",
     "output_type": "stream",
     "text": [
      "+--------------------+-------------+--------------------+\n",
      "|                uuid|instructor_id|course_offering_uuid|\n",
      "+--------------------+-------------+--------------------+\n",
      "|00057a03-1175-322...|      3011916|f850ab24-740c-311...|\n",
      "|00404b87-67ec-3f8...|      4189627|7e213b2b-c58b-301...|\n",
      "|00614cd5-429c-321...|      4395486|3beb7bd7-4877-3c6...|\n",
      "|007ef052-52cd-3f9...|      3800611|db253216-2e66-326...|\n",
      "|00acf3a3-061e-306...|      3922816|0cf737a4-653d-361...|\n",
      "|00b3a92c-fdc1-369...|       555884|f56ecceb-5b63-3fa...|\n",
      "|00bf99c8-267b-30e...|      4591139|101434f8-bf7a-3a7...|\n",
      "|00d051ed-9aac-392...|       944218|1e1d6814-98d2-3f2...|\n",
      "|00fca91c-17be-343...|      4282248|e0e855a9-4c38-391...|\n",
      "|010975cf-f571-323...|      3474609|0c21c829-3a58-33c...|\n",
      "|0140dc65-fabb-3b4...|      3856846|d8958860-1ff5-3e1...|\n",
      "|01976f3e-21d5-3e5...|      3374489|e6c9fd91-ea45-36b...|\n",
      "|019eef9a-6ec6-35e...|      2601630|3d3a639f-2b17-35e...|\n",
      "|01a1fe73-35a2-385...|      4604387|85137c05-9fef-37c...|\n",
      "|01a64072-bcc7-351...|      2600548|1273b744-78aa-37b...|\n",
      "|01b0c34b-2251-3ac...|       689596|26d12f2f-a59d-37f...|\n",
      "|01c3b9c0-e3c0-321...|      4164082|2a2ef68d-eb3b-3ad...|\n",
      "|02405596-a66a-3c1...|      3182121|1b83210b-b0cd-315...|\n",
      "|0315b9ae-f54c-3e2...|      5524082|a723f1f3-2e07-3e9...|\n",
      "|031c0d6d-6675-36e...|      4615858|18956326-9bff-3dd...|\n",
      "+--------------------+-------------+--------------------+\n",
      "only showing top 20 rows\n",
      "\n"
     ]
    }
   ],
   "source": [
    "sec_id.show()"
   ]
  },
  {
   "cell_type": "code",
   "execution_count": 92,
   "metadata": {},
   "outputs": [],
   "source": [
    "teach = sec_id.withColumnRenamed('instructor_id','id').join(instructors,'id','left')"
   ]
  },
  {
   "cell_type": "code",
   "execution_count": 110,
   "metadata": {},
   "outputs": [
    {
     "name": "stdout",
     "output_type": "stream",
     "text": [
      "+-------+--------------------+--------------------+-------------------+\n",
      "|     id|                uuid|course_offering_uuid|               name|\n",
      "+-------+--------------------+--------------------+-------------------+\n",
      "|3011916|00057a03-1175-322...|f850ab24-740c-311...|       THOMAS JAHNS|\n",
      "|4189627|00404b87-67ec-3f8...|7e213b2b-c58b-301...|JEAN-FRANCOIS HOUDE|\n",
      "|4395486|00614cd5-429c-321...|3beb7bd7-4877-3c6...|CHRISTOPHER R TABER|\n",
      "|3800611|007ef052-52cd-3f9...|db253216-2e66-326...|    MARISA S OTEGUI|\n",
      "|3922816|00acf3a3-061e-306...|0cf737a4-653d-361...|         HUIFANG XU|\n",
      "+-------+--------------------+--------------------+-------------------+\n",
      "only showing top 5 rows\n",
      "\n"
     ]
    }
   ],
   "source": [
    "teach.show(5)"
   ]
  },
  {
   "cell_type": "code",
   "execution_count": 111,
   "metadata": {},
   "outputs": [],
   "source": [
    "course_with_teacher = teach.select('id','course_offering_uuid','name')"
   ]
  },
  {
   "cell_type": "code",
   "execution_count": 112,
   "metadata": {},
   "outputs": [
    {
     "name": "stdout",
     "output_type": "stream",
     "text": [
      "+-------+--------------------+-------------------+\n",
      "|     id|course_offering_uuid|               name|\n",
      "+-------+--------------------+-------------------+\n",
      "|3011916|f850ab24-740c-311...|       THOMAS JAHNS|\n",
      "|4189627|7e213b2b-c58b-301...|JEAN-FRANCOIS HOUDE|\n",
      "|4395486|3beb7bd7-4877-3c6...|CHRISTOPHER R TABER|\n",
      "|3800611|db253216-2e66-326...|    MARISA S OTEGUI|\n",
      "|3922816|0cf737a4-653d-361...|         HUIFANG XU|\n",
      "| 555884|f56ecceb-5b63-3fa...|        JOHN RAUSCH|\n",
      "|4591139|101434f8-bf7a-3a7...|           XIAO GUO|\n",
      "| 944218|1e1d6814-98d2-3f2...|    JOHN HARRINGTON|\n",
      "|4282248|e0e855a9-4c38-391...|       ANJALI MISRA|\n",
      "|3474609|0c21c829-3a58-33c...|      MARLA M HANDY|\n",
      "|3856846|d8958860-1ff5-3e1...|     TIMOTHY ROGERS|\n",
      "|3374489|e6c9fd91-ea45-36b...|           BEN SHEN|\n",
      "|2601630|3d3a639f-2b17-35e...|  MARIA MUNIAGURRIA|\n",
      "|4604387|85137c05-9fef-37c...|   RAVI BALIJEPALLI|\n",
      "|2600548|1273b744-78aa-37b...|      DANIEL D LOEB|\n",
      "| 689596|26d12f2f-a59d-37f...|   ROXANN ENGELSTAD|\n",
      "|4164082|2a2ef68d-eb3b-3ad...|         OZGUR ISIL|\n",
      "|3182121|1b83210b-b0cd-315...|    KIRSTIN NACKERS|\n",
      "|5524082|a723f1f3-2e07-3e9...|        MELODY SAIN|\n",
      "|4615858|18956326-9bff-3dd...|    RICHARD HALBERG|\n",
      "+-------+--------------------+-------------------+\n",
      "only showing top 20 rows\n",
      "\n"
     ]
    }
   ],
   "source": [
    "course_with_teacher.show()"
   ]
  },
  {
   "cell_type": "code",
   "execution_count": 115,
   "metadata": {},
   "outputs": [],
   "source": [
    "course_id_new = course_with_teacher.withColumnRenamed('course_offering_uuid','uuid').withColumnRenamed('name','Teacher_Name')\\\n",
    "                     .join(course_offerings,'uuid','left')"
   ]
  },
  {
   "cell_type": "code",
   "execution_count": 118,
   "metadata": {},
   "outputs": [
    {
     "data": {
      "text/html": [
       "<div>\n",
       "<style scoped>\n",
       "    .dataframe tbody tr th:only-of-type {\n",
       "        vertical-align: middle;\n",
       "    }\n",
       "\n",
       "    .dataframe tbody tr th {\n",
       "        vertical-align: top;\n",
       "    }\n",
       "\n",
       "    .dataframe thead th {\n",
       "        text-align: right;\n",
       "    }\n",
       "</style>\n",
       "<table border=\"1\" class=\"dataframe\">\n",
       "  <thead>\n",
       "    <tr style=\"text-align: right;\">\n",
       "      <th></th>\n",
       "      <th>uuid</th>\n",
       "      <th>id</th>\n",
       "      <th>Teacher_Name</th>\n",
       "      <th>course_uuid</th>\n",
       "      <th>term_code</th>\n",
       "      <th>name</th>\n",
       "    </tr>\n",
       "  </thead>\n",
       "  <tbody>\n",
       "    <tr>\n",
       "      <td>0</td>\n",
       "      <td>f850ab24-740c-311a-a669-804a3fea7b0b</td>\n",
       "      <td>3011916</td>\n",
       "      <td>THOMAS JAHNS</td>\n",
       "      <td>2c3a2a38-9f53-3cfb-8f37-cde4cb3d4b4b</td>\n",
       "      <td>1074</td>\n",
       "      <td>Master's Research or Thesis</td>\n",
       "    </tr>\n",
       "    <tr>\n",
       "      <td>1</td>\n",
       "      <td>7e213b2b-c58b-3014-b3d1-01c0f7ed46ef</td>\n",
       "      <td>4189627</td>\n",
       "      <td>JEAN-FRANCOIS HOUDE</td>\n",
       "      <td>622a73dc-c070-38e4-8ba8-2b2c3f7a1056</td>\n",
       "      <td>1082</td>\n",
       "      <td>Wrkshp-Industrl Organizatn</td>\n",
       "    </tr>\n",
       "    <tr>\n",
       "      <td>2</td>\n",
       "      <td>3beb7bd7-4877-3c63-8afc-62f8b74e72fc</td>\n",
       "      <td>4395486</td>\n",
       "      <td>CHRISTOPHER R TABER</td>\n",
       "      <td>685a727c-fdc0-3ba6-b521-1f236f69b5fa</td>\n",
       "      <td>1164</td>\n",
       "      <td>Workshop - Public Economics</td>\n",
       "    </tr>\n",
       "    <tr>\n",
       "      <td>3</td>\n",
       "      <td>db253216-2e66-3267-86b2-7b9f5fe07223</td>\n",
       "      <td>3800611</td>\n",
       "      <td>MARISA S OTEGUI</td>\n",
       "      <td>abc31e90-8a8f-37bf-9fe0-bacd53aa2a1f</td>\n",
       "      <td>1084</td>\n",
       "      <td>Plant Cell Biology</td>\n",
       "    </tr>\n",
       "    <tr>\n",
       "      <td>4</td>\n",
       "      <td>0cf737a4-653d-3619-98ae-758f460df07f</td>\n",
       "      <td>3922816</td>\n",
       "      <td>HUIFANG XU</td>\n",
       "      <td>cf22b778-88fa-30fe-b871-180e7c36ed97</td>\n",
       "      <td>1144</td>\n",
       "      <td>Interfacial Biogeochemistry</td>\n",
       "    </tr>\n",
       "  </tbody>\n",
       "</table>\n",
       "</div>"
      ],
      "text/plain": [
       "                                   uuid       id         Teacher_Name  \\\n",
       "0  f850ab24-740c-311a-a669-804a3fea7b0b  3011916         THOMAS JAHNS   \n",
       "1  7e213b2b-c58b-3014-b3d1-01c0f7ed46ef  4189627  JEAN-FRANCOIS HOUDE   \n",
       "2  3beb7bd7-4877-3c63-8afc-62f8b74e72fc  4395486  CHRISTOPHER R TABER   \n",
       "3  db253216-2e66-3267-86b2-7b9f5fe07223  3800611      MARISA S OTEGUI   \n",
       "4  0cf737a4-653d-3619-98ae-758f460df07f  3922816           HUIFANG XU   \n",
       "\n",
       "                            course_uuid  term_code  \\\n",
       "0  2c3a2a38-9f53-3cfb-8f37-cde4cb3d4b4b       1074   \n",
       "1  622a73dc-c070-38e4-8ba8-2b2c3f7a1056       1082   \n",
       "2  685a727c-fdc0-3ba6-b521-1f236f69b5fa       1164   \n",
       "3  abc31e90-8a8f-37bf-9fe0-bacd53aa2a1f       1084   \n",
       "4  cf22b778-88fa-30fe-b871-180e7c36ed97       1144   \n",
       "\n",
       "                          name  \n",
       "0  Master's Research or Thesis  \n",
       "1   Wrkshp-Industrl Organizatn  \n",
       "2  Workshop - Public Economics  \n",
       "3           Plant Cell Biology  \n",
       "4  Interfacial Biogeochemistry  "
      ]
     },
     "execution_count": 118,
     "metadata": {},
     "output_type": "execute_result"
    }
   ],
   "source": [
    "course_id_new.limit(5).toPandas()"
   ]
  },
  {
   "cell_type": "code",
   "execution_count": null,
   "metadata": {},
   "outputs": [],
   "source": []
  },
  {
   "cell_type": "code",
   "execution_count": null,
   "metadata": {},
   "outputs": [],
   "source": []
  }
 ],
 "metadata": {
  "kernelspec": {
   "display_name": "Python 3",
   "language": "python",
   "name": "python3"
  },
  "language_info": {
   "codemirror_mode": {
    "name": "ipython",
    "version": 3
   },
   "file_extension": ".py",
   "mimetype": "text/x-python",
   "name": "python",
   "nbconvert_exporter": "python",
   "pygments_lexer": "ipython3",
   "version": "3.7.4"
  }
 },
 "nbformat": 4,
 "nbformat_minor": 2
}
